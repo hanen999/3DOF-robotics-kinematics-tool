{
  "nbformat": 4,
  "nbformat_minor": 0,
  "metadata": {
    "colab": {
      "provenance": []
    },
    "kernelspec": {
      "name": "python3",
      "display_name": "Python 3"
    },
    "language_info": {
      "name": "python"
    }
  },
  "cells": [
    {
      "cell_type": "code",
      "execution_count": 2,
      "metadata": {
        "id": "GiEushjLYCc-"
      },
      "outputs": [],
      "source": [
        "import math\n",
        "import sympy as sp\n",
        "import numpy as np\n"
      ]
    },
    {
      "cell_type": "code",
      "source": [
        "\n",
        "# ===== DEFINE SYMBOLIC VARIABLES =====\n",
        "teta1, teta2, teta3 = sp.symbols('teta1 teta2 teta3')\n",
        "\n",
        "# ===== FORWARD KINEMATICS =====\n",
        "xf = 0.4*sp.cos(teta1) + 0.3*sp.cos(teta2) + 0.2*sp.cos(teta3)\n",
        "yf = 0.4*sp.sin(teta1) + 0.3*sp.sin(teta2) + 0.2*sp.sin(teta3)\n",
        "\n",
        "# Print symbolic expressions\n",
        "print(\"Before Substitution Xf:\", xf)\n",
        "print(\"Before Substitution Yf:\", yf)\n"
      ],
      "metadata": {
        "colab": {
          "base_uri": "https://localhost:8080/"
        },
        "id": "XeURwICuYWgr",
        "outputId": "3efa0c7f-4b53-4a50-a638-6ac2a7afbeed"
      },
      "execution_count": 3,
      "outputs": [
        {
          "output_type": "stream",
          "name": "stdout",
          "text": [
            "Before Substitution Xf: 0.4*cos(teta1) + 0.3*cos(teta2) + 0.2*cos(teta3)\n",
            "Before Substitution Yf: 0.4*sin(teta1) + 0.3*sin(teta2) + 0.2*sin(teta3)\n"
          ]
        }
      ]
    },
    {
      "cell_type": "code",
      "source": [
        "\n",
        "# ===== SUBSTITUTE NUMERIC VALUES =====\n",
        "res_xf = xf.subs([(teta1, math.pi/2), (teta2, math.pi/6), (teta3, math.pi/9)])\n",
        "res_yf = yf.subs([(teta1, math.pi/2), (teta2, math.pi/6), (teta3, math.pi/9)])\n",
        "print(\"\\nAfter Substitution Xf:\", res_xf.evalf())\n",
        "print(\"After Substitution Yf:\", res_yf.evalf())\n",
        "\n"
      ],
      "metadata": {
        "colab": {
          "base_uri": "https://localhost:8080/"
        },
        "id": "iXzUQiUGYWss",
        "outputId": "303a2450-2464-4648-8d5c-0f273875110d"
      },
      "execution_count": 4,
      "outputs": [
        {
          "output_type": "stream",
          "name": "stdout",
          "text": [
            "\n",
            "After Substitution Xf: 0.447746145292513\n",
            "After Substitution Yf: 0.618404028665134\n"
          ]
        }
      ]
    },
    {
      "cell_type": "code",
      "source": [
        "\n",
        "# ===== ERROR FUNCTION (for future optimization) =====\n",
        "# Define target X and Y (example)\n",
        "X, Y = 0.8, 0.5\n",
        "E = ((xf - X)**2 + (yf - Y)**2)/2\n",
        "print(\"\\nSymbolic Error function E:\", E)\n"
      ],
      "metadata": {
        "colab": {
          "base_uri": "https://localhost:8080/"
        },
        "id": "zKdvrVCAYWxX",
        "outputId": "93f49407-fdc4-4645-8c51-a87abc85299c"
      },
      "execution_count": 6,
      "outputs": [
        {
          "output_type": "stream",
          "name": "stdout",
          "text": [
            "\n",
            "Symbolic Error function E: 0.125*(0.8*sin(teta1) + 0.6*sin(teta2) + 0.4*sin(teta3) - 1)**2 + 0.32*(0.5*cos(teta1) + 0.375*cos(teta2) + 0.25*cos(teta3) - 1)**2\n"
          ]
        }
      ]
    },
    {
      "cell_type": "code",
      "source": [
        "!pip install symengine"
      ],
      "metadata": {
        "colab": {
          "base_uri": "https://localhost:8080/"
        },
        "id": "OlGFchaBaKQK",
        "outputId": "0892157a-4cb5-4d27-d714-364d4a20bc29"
      },
      "execution_count": 7,
      "outputs": [
        {
          "output_type": "stream",
          "name": "stdout",
          "text": [
            "Collecting symengine\n",
            "  Downloading symengine-0.14.1-cp312-cp312-manylinux_2_17_x86_64.manylinux2014_x86_64.whl.metadata (1.3 kB)\n",
            "Downloading symengine-0.14.1-cp312-cp312-manylinux_2_17_x86_64.manylinux2014_x86_64.whl (50.3 MB)\n",
            "\u001b[2K   \u001b[90m━━━━━━━━━━━━━━━━━━━━━━━━━━━━━━━━━━━━━━━━\u001b[0m \u001b[32m50.3/50.3 MB\u001b[0m \u001b[31m15.7 MB/s\u001b[0m eta \u001b[36m0:00:00\u001b[0m\n",
            "\u001b[?25hInstalling collected packages: symengine\n",
            "Successfully installed symengine-0.14.1\n"
          ]
        }
      ]
    },
    {
      "cell_type": "code",
      "source": [
        "import symengine\n"
      ],
      "metadata": {
        "id": "dIBJNhx_aRDU"
      },
      "execution_count": 8,
      "outputs": []
    },
    {
      "cell_type": "code",
      "source": [
        "\n",
        "# ===== JACOBIAN USING symengine =====\n",
        "vars_sym = symengine.symbols('x y z')\n",
        "f = symengine.sympify(['0.4*cos(x) + 0.3*cos(y) + 0.2*cos(z)',\n",
        "                        '0.4*sin(x) + 0.3*sin(y) + 0.2*sin(z)'])\n",
        "J = symengine.zeros(len(f), len(vars_sym))\n",
        "\n",
        "for i, fi in enumerate(f):\n",
        "    for j, s in enumerate(vars_sym):\n",
        "        J[i, j] = symengine.diff(fi, s)\n",
        "\n",
        "print(\"\\nJacobian matrix J:\")\n",
        "print(J)\n",
        "\n"
      ],
      "metadata": {
        "colab": {
          "base_uri": "https://localhost:8080/"
        },
        "id": "YpzM6zJbYWzk",
        "outputId": "6993f5e4-d9d6-49f8-e388-98a5f670ff8f"
      },
      "execution_count": 9,
      "outputs": [
        {
          "output_type": "stream",
          "name": "stdout",
          "text": [
            "\n",
            "Jacobian matrix J:\n",
            "[-0.4*sin(x), -0.3*sin(y), -0.2*sin(z)]\n",
            "[0.4*cos(x), 0.3*cos(y), 0.2*cos(z)]\n",
            "\n"
          ]
        }
      ]
    },
    {
      "cell_type": "code",
      "source": [
        "print(f)"
      ],
      "metadata": {
        "colab": {
          "base_uri": "https://localhost:8080/"
        },
        "id": "6KOCjOZra1H9",
        "outputId": "198811d2-bc37-4b1f-b76a-3ba9c78c9d28"
      },
      "execution_count": 12,
      "outputs": [
        {
          "output_type": "stream",
          "name": "stdout",
          "text": [
            "[0.4*cos(x) + 0.3*cos(y) + 0.2*cos(z), 0.4*sin(x) + 0.3*sin(y) + 0.2*sin(z)]\n"
          ]
        }
      ]
    },
    {
      "cell_type": "code",
      "source": [
        "\n",
        "# ===== TARGET POSITION =====\n",
        "X_target = 0.8\n",
        "Y_target = 0.5\n",
        "\n"
      ],
      "metadata": {
        "id": "32vuzSttYW16"
      },
      "execution_count": 13,
      "outputs": []
    },
    {
      "cell_type": "code",
      "source": [
        "\n",
        "# ===== ERROR FUNCTION =====\n",
        "E = ((xf - X_target)**2 + (yf - Y_target)**2)/2\n",
        "print(\"Symbolic Error function E:\", E)\n",
        "\n"
      ],
      "metadata": {
        "colab": {
          "base_uri": "https://localhost:8080/"
        },
        "id": "khYZze5mYW4M",
        "outputId": "d2762db4-bdd5-498b-c76c-aa1cbba0a6b4"
      },
      "execution_count": 14,
      "outputs": [
        {
          "output_type": "stream",
          "name": "stdout",
          "text": [
            "Symbolic Error function E: 0.125*(0.8*sin(teta1) + 0.6*sin(teta2) + 0.4*sin(teta3) - 1)**2 + 0.32*(0.5*cos(teta1) + 0.375*cos(teta2) + 0.25*cos(teta3) - 1)**2\n"
          ]
        }
      ]
    },
    {
      "cell_type": "code",
      "source": [
        "# ===== GRADIENT =====\n",
        "grad_E = [sp.diff(E, teta1), sp.diff(E, teta2), sp.diff(E, teta3)]\n",
        "print(\"\\nSymbolic Gradient:\")\n",
        "for i, g in enumerate(grad_E):\n",
        "    print(f\"dE/dtheta{i+1} =\", g)\n",
        "\n"
      ],
      "metadata": {
        "colab": {
          "base_uri": "https://localhost:8080/"
        },
        "id": "R70-VXkmYW6s",
        "outputId": "85a69108-e899-4757-85f6-d86506431ac4"
      },
      "execution_count": 15,
      "outputs": [
        {
          "output_type": "stream",
          "name": "stdout",
          "text": [
            "\n",
            "Symbolic Gradient:\n",
            "dE/dtheta1 = 0.2*(0.8*sin(teta1) + 0.6*sin(teta2) + 0.4*sin(teta3) - 1)*cos(teta1) - 0.32*(0.5*cos(teta1) + 0.375*cos(teta2) + 0.25*cos(teta3) - 1)*sin(teta1)\n",
            "dE/dtheta2 = 0.15*(0.8*sin(teta1) + 0.6*sin(teta2) + 0.4*sin(teta3) - 1)*cos(teta2) - 0.24*(0.5*cos(teta1) + 0.375*cos(teta2) + 0.25*cos(teta3) - 1)*sin(teta2)\n",
            "dE/dtheta3 = 0.1*(0.8*sin(teta1) + 0.6*sin(teta2) + 0.4*sin(teta3) - 1)*cos(teta3) - 0.16*(0.5*cos(teta1) + 0.375*cos(teta2) + 0.25*cos(teta3) - 1)*sin(teta3)\n"
          ]
        }
      ]
    },
    {
      "cell_type": "code",
      "source": [
        "# ===== GRADIENT DESCENT PARAMETERS =====\n",
        "learning_rate = 0.1\n",
        "max_iter = 100\n",
        "teta_vals = np.array([math.pi/3, math.pi/3, math.pi/3])  # initial guess\n",
        "\n"
      ],
      "metadata": {
        "id": "pGPK9maAYW-H"
      },
      "execution_count": 16,
      "outputs": []
    },
    {
      "cell_type": "code",
      "source": [
        "# ===== GRADIENT DESCENT LOOP =====\n",
        "for it in range(max_iter):\n",
        "    # Evaluate gradient numerically at current angles\n",
        "    grad_num = np.array([g.subs({teta1: teta_vals[0], teta2: teta_vals[1], teta3: teta_vals[2]})\n",
        "                         for g in grad_E], dtype=float)\n",
        "\n",
        "    # Update angles\n",
        "    teta_vals = teta_vals - learning_rate * grad_num\n",
        "\n",
        "    # Compute current error\n",
        "    E_val = E.subs({teta1: teta_vals[0], teta2: teta_vals[1], teta3: teta_vals[2]}).evalf()\n",
        "\n",
        "    if it % 10 == 0:  # print every 10 iterations\n",
        "        print(f\"Iteration {it}, E = {E_val}, angles = {teta_vals}\")\n",
        "\n",
        "print(\"\\nFinal angles after Gradient Descent:\", teta_vals)\n",
        "xf_final = xf.subs({teta1: teta_vals[0], teta2: teta_vals[1], teta3: teta_vals[2]}).evalf()\n",
        "yf_final = yf.subs({teta1: teta_vals[0], teta2: teta_vals[1], teta3: teta_vals[2]}).evalf()\n",
        "print(\"Final end-effector position: X =\", xf_final, \"Y =\", yf_final)\n"
      ],
      "metadata": {
        "colab": {
          "base_uri": "https://localhost:8080/"
        },
        "id": "Hkh9U1E7da20",
        "outputId": "3c0b5fa8-30e4-445a-ce46-e4927b8ab398"
      },
      "execution_count": 17,
      "outputs": [
        {
          "output_type": "stream",
          "name": "stdout",
          "text": [
            "Iteration 0, E = 0.0946781411794593, angles = [1.02948474 1.03391294 1.03834114]\n",
            "Iteration 10, E = 0.0528445679634576, angles = [0.87683414 0.91961375 0.96231243]\n",
            "Iteration 20, E = 0.0293839663838881, angles = [0.76265597 0.83389139 0.90528568]\n",
            "Iteration 30, E = 0.0164905536211508, angles = [0.67841434 0.77008035 0.86260197]\n",
            "Iteration 40, E = 0.00947618253963268, angles = [0.61675576 0.7227354  0.83060545]\n",
            "Iteration 50, E = 0.00567762027072239, angles = [0.57186852 0.68763361 0.80652046]\n",
            "Iteration 60, E = 0.00362356950881186, angles = [0.53934158 0.66158505 0.78827436]\n",
            "Iteration 70, E = 0.00251228378017565, angles = [0.51589124 0.64221253 0.77433236]\n",
            "Iteration 80, E = 0.00190970125613628, angles = [0.49909515 0.62775688 0.7635625 ]\n",
            "Iteration 90, E = 0.00158149989437564, angles = [0.48717362 0.61692097 0.75513159]\n",
            "\n",
            "Final angles after Gradient Descent: [0.47952535 0.60946888 0.74903353]\n",
            "Final end-effector position: X = 0.747340712969810 Y = 0.492459117719701\n"
          ]
        }
      ]
    },
    {
      "cell_type": "code",
      "source": [],
      "metadata": {
        "id": "3dAzWQSydl9Q"
      },
      "execution_count": null,
      "outputs": []
    }
  ]
}