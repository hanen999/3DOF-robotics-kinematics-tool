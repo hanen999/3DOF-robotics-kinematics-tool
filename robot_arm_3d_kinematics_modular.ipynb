{
  "nbformat": 4,
  "nbformat_minor": 0,
  "metadata": {
    "colab": {
      "provenance": []
    },
    "kernelspec": {
      "name": "python3",
      "display_name": "Python 3"
    },
    "language_info": {
      "name": "python"
    }
  },
  "cells": [
    {
      "cell_type": "code",
      "source": [
        "!pip install symengine"
      ],
      "metadata": {
        "colab": {
          "base_uri": "https://localhost:8080/"
        },
        "id": "ONrLydFilTWm",
        "outputId": "518da143-284c-4f65-b35e-eef029b20868"
      },
      "execution_count": 2,
      "outputs": [
        {
          "output_type": "stream",
          "name": "stdout",
          "text": [
            "Collecting symengine\n",
            "  Downloading symengine-0.14.1-cp312-cp312-manylinux_2_17_x86_64.manylinux2014_x86_64.whl.metadata (1.3 kB)\n",
            "Downloading symengine-0.14.1-cp312-cp312-manylinux_2_17_x86_64.manylinux2014_x86_64.whl (50.3 MB)\n",
            "\u001b[2K   \u001b[90m━━━━━━━━━━━━━━━━━━━━━━━━━━━━━━━━━━━━━━━━\u001b[0m \u001b[32m50.3/50.3 MB\u001b[0m \u001b[31m17.7 MB/s\u001b[0m eta \u001b[36m0:00:00\u001b[0m\n",
            "\u001b[?25hInstalling collected packages: symengine\n",
            "Successfully installed symengine-0.14.1\n"
          ]
        }
      ]
    },
    {
      "cell_type": "code",
      "execution_count": 3,
      "metadata": {
        "id": "aiolG5Yujhqn"
      },
      "outputs": [],
      "source": [
        "\n",
        "\n",
        "import math\n",
        "import sympy as sp\n",
        "import numpy as np\n",
        "import symengine\n",
        "\n",
        "\n"
      ]
    },
    {
      "cell_type": "code",
      "source": [
        "# ===== Functions =====\n",
        "\n",
        "def define_symbols():\n",
        "    theta1, theta2, theta3 = sp.symbols('theta1 theta2 theta3')\n",
        "    return theta1, theta2, theta3\n",
        "\n",
        "def forward_kinematics(theta, link_lengths=[0.4, 0.3, 0.2]):\n",
        "    \"\"\"\n",
        "    Compute symbolic forward kinematics for a 3-DOF planar arm.\n",
        "\n",
        "    Args:\n",
        "        theta: tuple/list of symbolic joint variables (theta1, theta2, theta3)\n",
        "        link_lengths: list of link lengths [L1, L2, L3]\n",
        "\n",
        "    Returns:\n",
        "        xf, yf: symbolic expressions for end-effector position\n",
        "    \"\"\"\n",
        "    L1, L2, L3 = link_lengths\n",
        "    theta1, theta2, theta3 = theta\n",
        "\n",
        "    xf = L1*sp.cos(theta1) + L2*sp.cos(theta2) + L3*sp.cos(theta3)\n",
        "    yf = L1*sp.sin(theta1) + L2*sp.sin(theta2) + L3*sp.sin(theta3)\n",
        "\n",
        "    return xf, yf\n",
        "\n",
        "def evaluate_fk(xf, yf, angles):\n",
        "    \"\"\"Substitute numeric angles into forward kinematics expressions.\"\"\"\n",
        "    xf_val = xf.subs(angles).evalf()\n",
        "    yf_val = yf.subs(angles).evalf()\n",
        "    return xf_val, yf_val\n",
        "\n",
        "def compute_jacobian(xf, yf, theta):\n",
        "    \"\"\"Compute symbolic Jacobian matrix.\"\"\"\n",
        "    return sp.Matrix([xf, yf]).jacobian(theta)\n",
        "\n",
        "def evaluate_jacobian(J, angles):\n",
        "    \"\"\"Evaluate symbolic Jacobian at given numeric angles.\"\"\"\n",
        "    return np.array(J.subs(angles)).astype(np.float64)\n",
        "\n",
        "def symbolic_error(xf, yf, target_x, target_y):\n",
        "    \"\"\"Define a symbolic error function for potential optimization.\"\"\"\n",
        "    return ((xf - target_x)**2 + (yf - target_y)**2)/2\n",
        "\n",
        "# ===== Gradient Descent =====\n",
        "def gradient_descent(xf, yf, theta, target, lr=0.1, iterations=100):\n",
        "    \"\"\"Perform gradient descent to move end-effector toward target (X, Y).\"\"\"\n",
        "    theta_vals = np.array([math.pi/4, math.pi/4, math.pi/4], dtype=float)  # initial angles\n",
        "    X_target, Y_target = target\n",
        "\n",
        "    # Convert symbolic error to derivatives\n",
        "    E = symbolic_error(xf, yf, X_target, Y_target)\n",
        "    grads = [sp.lambdify(theta, sp.diff(E, t)) for t in theta]\n",
        "\n",
        "    for i in range(iterations):\n",
        "        # Compute gradients\n",
        "        grad_vals = np.array([g(*theta_vals) for g in grads], dtype=float)\n",
        "        # Update angles\n",
        "        theta_vals -= lr * grad_vals\n",
        "\n",
        "        # Compute current error\n",
        "        E_val = E.subs({theta[j]: theta_vals[j] for j in range(3)}).evalf()\n",
        "        print(f\"Iter {i+1}: theta = {theta_vals}, error = {E_val}\")\n",
        "\n",
        "    return theta_vals\n"
      ],
      "metadata": {
        "id": "3ng8Z5o0j1Dj"
      },
      "execution_count": 6,
      "outputs": []
    },
    {
      "cell_type": "code",
      "source": [],
      "metadata": {
        "id": "Q_WFe5gDmpLF"
      },
      "execution_count": null,
      "outputs": []
    },
    {
      "cell_type": "code",
      "source": [
        "# ===== Main Script =====\n",
        "if __name__ == \"__main__\":\n",
        "    # Define symbolic variables\n",
        "    theta1, theta2, theta3 = define_symbols()\n",
        "    theta = (theta1, theta2, theta3)\n",
        "\n",
        "    # Forward kinematics\n",
        "    xf, yf = forward_kinematics(theta)\n",
        "    print(\"Symbolic Forward Kinematics:\")\n",
        "    print(\"Xf:\", xf)\n",
        "    print(\"Yf:\", yf)\n",
        "\n",
        "    # Numeric evaluation\n",
        "    angles = {theta1: math.pi/2, theta2: math.pi/6, theta3: math.pi/9}\n",
        "    xf_val, yf_val = evaluate_fk(xf, yf, angles)\n",
        "    print(\"\\nNumeric FK at given angles:\")\n",
        "    print(\"Xf =\", xf_val)\n",
        "    print(\"Yf =\", yf_val)\n",
        "\n",
        "    # Jacobian\n",
        "    J = compute_jacobian(xf, yf, theta)\n",
        "    print(\"\\nSymbolic Jacobian:\")\n",
        "    sp.pprint(J)\n",
        "\n",
        "    J_val = evaluate_jacobian(J, angles)\n",
        "    print(\"\\nJacobian as NumPy array at given angles:\")\n",
        "    print(J_val)\n",
        "\n",
        "    # Symbolic error function (example)\n",
        "    target_x, target_y = 0.8, 0.5\n",
        "    E = symbolic_error(xf, yf, target_x, target_y)\n",
        "    print(\"\\nSymbolic Error function E:\")\n",
        "    print(E)\n",
        "\n",
        "    # Optional: SymEngine example\n",
        "    if symengine:\n",
        "        print(\"\\nUsing SymEngine for Jacobian (optional)\")\n",
        "        x, y, z = symengine.symbols('x y z')\n",
        "        f = symengine.sympify([\n",
        "            '0.4*cos(x) + 0.3*cos(y) + 0.2*cos(z)',\n",
        "            '0.4*sin(x) + 0.3*sin(y) + 0.2*sin(z)'\n",
        "        ])\n",
        "        J_se = symengine.zeros(len(f), 3)\n",
        "        for i, fi in enumerate(f):\n",
        "            for j, s in enumerate([x, y, z]):\n",
        "                J_se[i, j] = symengine.diff(fi, s)\n",
        "        print(\"SymEngine Jacobian matrix:\")\n",
        "        print(J_se)\n",
        "    # Target position\n",
        "    target = (0.8, 0.5)\n",
        "    theta_final = gradient_descent(xf, yf, theta, target, lr=0.1, iterations=10)\n",
        "    print(\"\\nFinal joint angles after gradient descent:\", theta_final)\n"
      ],
      "metadata": {
        "colab": {
          "base_uri": "https://localhost:8080/"
        },
        "id": "bfM6By44j1Fm",
        "outputId": "ee8f1ab7-02c9-4fb7-8f34-ddb40e05dc4a"
      },
      "execution_count": 10,
      "outputs": [
        {
          "output_type": "stream",
          "name": "stdout",
          "text": [
            "Symbolic Forward Kinematics:\n",
            "Xf: 0.4*cos(theta1) + 0.3*cos(theta2) + 0.2*cos(theta3)\n",
            "Yf: 0.4*sin(theta1) + 0.3*sin(theta2) + 0.2*sin(theta3)\n",
            "\n",
            "Numeric FK at given angles:\n",
            "Xf = 0.447746145292513\n",
            "Yf = 0.618404028665134\n",
            "\n",
            "Symbolic Jacobian:\n",
            "⎡-0.4⋅sin(θ₁)  -0.3⋅sin(θ₂)  -0.2⋅sin(θ₃)⎤\n",
            "⎢                                        ⎥\n",
            "⎣0.4⋅cos(θ₁)   0.3⋅cos(θ₂)   0.2⋅cos(θ₃) ⎦\n",
            "\n",
            "Jacobian as NumPy array at given angles:\n",
            "[[-4.00000000e-01 -1.50000000e-01 -6.84040287e-02]\n",
            " [ 2.44929360e-17  2.59807621e-01  1.87938524e-01]]\n",
            "\n",
            "Symbolic Error function E:\n",
            "0.125*(0.8*sin(theta1) + 0.6*sin(theta2) + 0.4*sin(theta3) - 1)**2 + 0.32*(0.5*cos(theta1) + 0.375*cos(theta2) + 0.25*cos(theta3) - 1)**2\n",
            "\n",
            "Using SymEngine for Jacobian (optional)\n",
            "SymEngine Jacobian matrix:\n",
            "[-0.4*sin(x), -0.3*sin(y), -0.2*sin(z)]\n",
            "[0.4*cos(x), 0.3*cos(y), 0.2*cos(z)]\n",
            "\n",
            "Iter 1: theta = [0.77691288 0.7790342  0.78115552], error = 0.0213994288705491\n",
            "Iter 2: theta = [0.76868051 0.7728586  0.77703759], error = 0.0201890165864022\n",
            "Iter 3: theta = [0.76069409 0.766866   0.77304073], error = 0.0190495481268962\n",
            "Iter 4: theta = [0.75294683 0.76105118 0.76916142], error = 0.0179769716758068\n",
            "Iter 5: theta = [0.74543206 0.75540905 0.7653962 ], error = 0.0169674540808872\n",
            "Iter 6: theta = [0.73814328 0.74993464 0.76174174], error = 0.0160173705760493\n",
            "Iter 7: theta = [0.7310741  0.74462311 0.75819478], error = 0.0151232947999070\n",
            "Iter 8: theta = [0.7242183  0.73946974 0.75475214], error = 0.0142819891275050\n",
            "Iter 9: theta = [0.71756981 0.73446994 0.75141075], error = 0.0134903953275455\n",
            "Iter 10: theta = [0.71112268 0.72961923 0.7481676 ], error = 0.0127456255535034\n",
            "\n",
            "Final joint angles after gradient descent: [0.71112268 0.72961923 0.7481676 ]\n"
          ]
        }
      ]
    },
    {
      "cell_type": "code",
      "source": [],
      "metadata": {
        "id": "7o5RhVXJj1IF"
      },
      "execution_count": null,
      "outputs": []
    },
    {
      "cell_type": "code",
      "source": [],
      "metadata": {
        "id": "0LHdleIbj1LK"
      },
      "execution_count": null,
      "outputs": []
    },
    {
      "cell_type": "code",
      "source": [],
      "metadata": {
        "id": "FhWnsZ96j1Ou"
      },
      "execution_count": null,
      "outputs": []
    }
  ]
}